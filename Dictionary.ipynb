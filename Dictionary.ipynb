{
 "cells": [
  {
   "cell_type": "markdown",
   "metadata": {},
   "source": [
    "Dictionary hold element of key, value pairs in curly brackets"
   ]
  },
  {
   "cell_type": "code",
   "execution_count": 1,
   "metadata": {},
   "outputs": [
    {
     "name": "stdout",
     "output_type": "stream",
     "text": [
      "Dictionary keys\n",
      "{1: 'Geeks', 2: 'For', 3: 'Geeks'}\n"
     ]
    }
   ],
   "source": [
    "Dict = {1:'Geeks',2:'For',3:'Geeks'}\n",
    "print(\"Dictionary keys\")\n",
    "print(Dict)"
   ]
  },
  {
   "cell_type": "markdown",
   "metadata": {},
   "source": [
    "Dictionary with mixed keys"
   ]
  },
  {
   "cell_type": "code",
   "execution_count": 7,
   "metadata": {},
   "outputs": [
    {
     "name": "stdout",
     "output_type": "stream",
     "text": [
      "Dictionary wih the used of mixed keys:\n",
      "{'Name': 'Geeks', 1: [1, 2, 3, 4, 5]}\n",
      "Geeks\n"
     ]
    }
   ],
   "source": [
    "Dict = {'Name':'Geeks',1:[1,2,3,4,5]}\n",
    "print(\"Dictionary wih the used of mixed keys:\")\n",
    "print(Dict)\n",
    "print(Dict['Name'])"
   ]
  },
  {
   "cell_type": "markdown",
   "metadata": {},
   "source": [
    "Dictionary can also be created using built in function dict().<br>\n",
    "Empty dictionary is created using {}"
   ]
  },
  {
   "cell_type": "code",
   "execution_count": 8,
   "metadata": {},
   "outputs": [
    {
     "name": "stdout",
     "output_type": "stream",
     "text": [
      "Empty dictionary\n",
      "{}\n"
     ]
    }
   ],
   "source": [
    "Dict = {}\n",
    "print(\"Empty dictionary\")\n",
    "print(Dict)"
   ]
  },
  {
   "cell_type": "markdown",
   "metadata": {},
   "source": [
    "Creating dictionary using dict() method"
   ]
  },
  {
   "cell_type": "code",
   "execution_count": 9,
   "metadata": {},
   "outputs": [
    {
     "name": "stdout",
     "output_type": "stream",
     "text": [
      "Dictionary with the use of dict()\n",
      "{1: 'Geeks', 2: 'For', 3: 'Geeks'}\n"
     ]
    }
   ],
   "source": [
    "Dict = dict({1:'Geeks',2:'For',3:'Geeks'})\n",
    "print('Dictionary with the use of dict()')\n",
    "print(Dict)"
   ]
  },
  {
   "cell_type": "markdown",
   "metadata": {},
   "source": [
    "Creating dictionary using key value pair"
   ]
  },
  {
   "cell_type": "code",
   "execution_count": 15,
   "metadata": {},
   "outputs": [
    {
     "name": "stdout",
     "output_type": "stream",
     "text": [
      "Dictionary with key value pair\n",
      "Printing entire dictionary {1: 'Geeks', 2: 'For', 'Geeks': 1} ,\n",
      "printing value for key 1 :Geeks,\n",
      "printing value for key 'Geeks':1 \n",
      "\n"
     ]
    }
   ],
   "source": [
    "Dict = dict([(1,'Geeks'),(2,'For'),('Geeks',1)])\n",
    "print('Dictionary with key value pair')\n",
    "print(\"Printing entire dictionary {} ,\\nprinting value for key 1 :{},\\nprinting value for key 'Geeks':{} \\n\".format(Dict,Dict[1],Dict['Geeks']))"
   ]
  },
  {
   "cell_type": "markdown",
   "metadata": {},
   "source": [
    "Nested Dictionary"
   ]
  },
  {
   "cell_type": "code",
   "execution_count": 16,
   "metadata": {},
   "outputs": [
    {
     "name": "stdout",
     "output_type": "stream",
     "text": [
      "{1: 'Geeks', 2: 'For', 3: {'A': 'Welcome', 'B': 'To', 'C': 'Geeks'}}\n"
     ]
    }
   ],
   "source": [
    "Dict = {\n",
    "    1:'Geeks',\n",
    "    2:'For',\n",
    "    3:{'A':'Welcome','B':'To','C':'Geeks'}\n",
    "}\n",
    "print(Dict)"
   ]
  },
  {
   "cell_type": "markdown",
   "metadata": {},
   "source": [
    "Adding key value pair can be done by Dict[key] = value.<br>\n",
    "Also can update value of key using built in function update() method.<br>\n",
    "If the key is present then it updated the value or if key is not found then key value pair is added to the dictionary.<br>\n",
    "Using update() method multiple key value can be added at one."
   ]
  },
  {
   "cell_type": "code",
   "execution_count": 18,
   "metadata": {},
   "outputs": [
    {
     "name": "stdout",
     "output_type": "stream",
     "text": [
      "Dictionary after inserting 3 elements {0: 'Geeks', 2: 'For', 3: 1}\n"
     ]
    }
   ],
   "source": [
    "Dict =  {} # Empty dictionary\n",
    "# Adding element one at a time\n",
    "Dict[0] = 'Geeks'\n",
    "Dict[2] = 'For'\n",
    "Dict[3] = 1\n",
    "print(\"Dictionary after inserting 3 elements\",Dict)"
   ]
  },
  {
   "cell_type": "code",
   "execution_count": 20,
   "metadata": {},
   "outputs": [
    {
     "name": "stdout",
     "output_type": "stream",
     "text": [
      "{0: 'Geeks', 2: 'For', 3: 1, 'Value_set': (1, 2, 4, 5), 'List': [1, 2, 3, 4, 5], 'Set': {1, 2, 3, 4, 5}}\n"
     ]
    }
   ],
   "source": [
    "# Adding set of values\n",
    "Dict['Value_set'] = 1,2,4,5\n",
    "Dict['List'] = [1,2,3,4,5]\n",
    "Dict['Set'] = {1,2,3,4,5}\n",
    "print(Dict)"
   ]
  },
  {
   "cell_type": "code",
   "execution_count": 21,
   "metadata": {},
   "outputs": [
    {
     "name": "stdout",
     "output_type": "stream",
     "text": [
      "{0: 'Geeks', 2: 'Welcome', 3: 1, 'Value_set': (1, 2, 4, 5), 'List': [1, 2, 3, 4, 5], 'Set': {1, 2, 3, 4, 5}}\n"
     ]
    }
   ],
   "source": [
    "# Updating values\n",
    "Dict[2] = 'Welcome'\n",
    "print(Dict)"
   ]
  },
  {
   "cell_type": "code",
   "execution_count": 31,
   "metadata": {},
   "outputs": [
    {
     "name": "stdout",
     "output_type": "stream",
     "text": [
      "Geeks\n",
      "Welcome\n",
      "1\n",
      "(1, 2, 4, 5)\n",
      "[1, 2, 3, 4, 5]\n",
      "{1, 2, 3, 4, 5}\n",
      "{'Nested': {'1': 'Life', '2': 'Geeks'}}\n"
     ]
    }
   ],
   "source": [
    "# Adding Nested key value to the dictionary\n",
    "Dict[5] = {'Nested':{'1':'Life','2':'Geeks'}}\n",
    "for element in Dict:\n",
    "    print(Dict[element])"
   ]
  },
  {
   "cell_type": "code",
   "execution_count": 36,
   "metadata": {},
   "outputs": [
    {
     "name": "stdout",
     "output_type": "stream",
     "text": [
      "{'Nested': {'1': 'Life', '2': 'Geeks'}}\n",
      "{'1': 'Life', '2': 'Geeks'}\n",
      "Life\n"
     ]
    }
   ],
   "source": [
    "#Printing values inside nested dictionary\n",
    "print(Dict[5]) # Printing 5th element in the dictionary\n",
    "print(Dict[5]['Nested']) # Printing value for the key in 5 element\n",
    "print(Dict[5]['Nested']['1']) # printing value for key = '1' in key = 'Nested' "
   ]
  },
  {
   "cell_type": "markdown",
   "metadata": {},
   "source": [
    "get() method can also be for accessing the element in dictionary"
   ]
  },
  {
   "cell_type": "code",
   "execution_count": 41,
   "metadata": {},
   "outputs": [
    {
     "name": "stdout",
     "output_type": "stream",
     "text": [
      "Geeks\n",
      "e\n"
     ]
    }
   ],
   "source": [
    "Dict = {1:'Geeks',2:'For',3:'Geeks'}\n",
    "print(Dict.get(3)) # Accesing the element using get() for key = 3\n",
    "print(Dict.get(3)[1]) # Accessing 2nd character of the value for the key = 3"
   ]
  },
  {
   "cell_type": "markdown",
   "metadata": {},
   "source": [
    "Removing elements from dictionary"
   ]
  },
  {
   "cell_type": "markdown",
   "metadata": {},
   "source": [
    "In python dictionary del keyword can be used to delete the key value pair by simply be called del Dict[key].<br>\n",
    "It can also be used to nested dictionary value."
   ]
  },
  {
   "cell_type": "code",
   "execution_count": 53,
   "metadata": {},
   "outputs": [],
   "source": [
    "Dict = { 5 : 'Welcome', 6 : 'To', 7 : 'Geeks', \n",
    "        'A' : {1 : 'Geeks', 2 : 'For', 3 : 'Geeks'}, \n",
    "        'B' : {1 : 'Geeks', 2 : 'Life'}} \n",
    "def printDict(Dict):\n",
    "    for element in Dict:\n",
    "        print(element,\":\",Dict[element])"
   ]
  },
  {
   "cell_type": "code",
   "execution_count": 54,
   "metadata": {},
   "outputs": [
    {
     "name": "stdout",
     "output_type": "stream",
     "text": [
      "5 : Welcome\n",
      "6 : To\n",
      "7 : Geeks\n",
      "A : {1: 'Geeks', 2: 'For', 3: 'Geeks'}\n",
      "B : {1: 'Geeks', 2: 'Life'}\n",
      "None\n"
     ]
    }
   ],
   "source": [
    "print(printDict(Dict))"
   ]
  },
  {
   "cell_type": "code",
   "execution_count": 55,
   "metadata": {},
   "outputs": [
    {
     "name": "stdout",
     "output_type": "stream",
     "text": [
      "5 : Welcome\n",
      "7 : Geeks\n",
      "A : {1: 'Geeks', 2: 'For', 3: 'Geeks'}\n",
      "B : {1: 'Geeks', 2: 'Life'}\n",
      "None\n"
     ]
    }
   ],
   "source": [
    "del Dict[6]\n",
    "print(printDict(Dict))"
   ]
  },
  {
   "cell_type": "code",
   "execution_count": 56,
   "metadata": {},
   "outputs": [
    {
     "ename": "KeyError",
     "evalue": "6",
     "output_type": "error",
     "traceback": [
      "\u001b[1;31m---------------------------------------------------------------------------\u001b[0m",
      "\u001b[1;31mKeyError\u001b[0m                                  Traceback (most recent call last)",
      "\u001b[1;32m<ipython-input-56-7215bd6e0b31>\u001b[0m in \u001b[0;36m<module>\u001b[1;34m\u001b[0m\n\u001b[1;32m----> 1\u001b[1;33m \u001b[1;32mdel\u001b[0m \u001b[0mDict\u001b[0m\u001b[1;33m[\u001b[0m\u001b[1;36m6\u001b[0m\u001b[1;33m]\u001b[0m \u001b[1;31m# Deleting deleted will give an error as the element is not found\u001b[0m\u001b[1;33m\u001b[0m\u001b[1;33m\u001b[0m\u001b[0m\n\u001b[0m",
      "\u001b[1;31mKeyError\u001b[0m: 6"
     ]
    }
   ],
   "source": [
    "del Dict[6] # Deleting deleted will give an error as the element is not found"
   ]
  },
  {
   "cell_type": "code",
   "execution_count": 58,
   "metadata": {},
   "outputs": [
    {
     "name": "stdout",
     "output_type": "stream",
     "text": [
      "5 : Welcome\n",
      "7 : Geeks\n",
      "A : {2: 'For', 3: 'Geeks'}\n",
      "B : {1: 'Geeks', 2: 'Life'}\n",
      "None\n"
     ]
    }
   ],
   "source": [
    "# Deleting specific element from nested dictionary\n",
    "del Dict['A'][1] # Delete element inside value for key \"A\" for which key = 1\n",
    "print(printDict(Dict))"
   ]
  },
  {
   "cell_type": "markdown",
   "metadata": {},
   "source": [
    "pop() method is used to return the value for specific key"
   ]
  },
  {
   "cell_type": "code",
   "execution_count": 66,
   "metadata": {},
   "outputs": [
    {
     "name": "stdout",
     "output_type": "stream",
     "text": [
      "Dictionary before pop :\n",
      "1 : Geeks\n",
      "name : For\n",
      "3 : Geeks\n",
      "\n",
      "Pop element : Geeks\n",
      "\n",
      "Dictionary after pop :\n",
      "name : For\n",
      "3 : Geeks\n"
     ]
    }
   ],
   "source": [
    "Dict = {1: 'Geeks', 'name': 'For', 3: 'Geeks'} \n",
    "print(\"Dictionary before pop :\")\n",
    "printDict(Dict)\n",
    "pop_ele = Dict.pop(1)\n",
    "print(\"\\nPop element : {}\\n\".format(pop_ele))\n",
    "print(\"Dictionary after pop :\")\n",
    "printDict(Dict)"
   ]
  },
  {
   "cell_type": "markdown",
   "metadata": {},
   "source": [
    "popitem() return and removes an last element from  the dictionary"
   ]
  },
  {
   "cell_type": "code",
   "execution_count": 74,
   "metadata": {},
   "outputs": [
    {
     "name": "stdout",
     "output_type": "stream",
     "text": [
      "Dictionary before pop :\n",
      "1 : Geeks\n",
      "name : For\n",
      "3 : Geeks\n",
      "4 : Test\n",
      "\n",
      "Pop element : (4, 'Test')\n",
      "\n",
      "Dictionary after pop :\n",
      "1 : Geeks\n",
      "name : For\n",
      "3 : Geeks\n"
     ]
    }
   ],
   "source": [
    "Dict = {1: 'Geeks', 'name': 'For', 3: 'Geeks',4:'Test'} \n",
    "print(\"Dictionary before pop :\")\n",
    "printDict(Dict)\n",
    "pop_ele = Dict.popitem() #We don't have to pass the key for the value to be pop ,it last element from the dictionary\n",
    "print(\"\\nPop element : {}\\n\".format(pop_ele))\n",
    "print(\"Dictionary after pop :\")\n",
    "printDict(Dict)"
   ]
  },
  {
   "cell_type": "markdown",
   "metadata": {},
   "source": [
    "clear() all items from the dictionary at once"
   ]
  },
  {
   "cell_type": "code",
   "execution_count": 76,
   "metadata": {},
   "outputs": [
    {
     "name": "stdout",
     "output_type": "stream",
     "text": [
      "Dictionary before clear :\n",
      "1 : Geeks\n",
      "name : For\n",
      "3 : Geeks\n",
      "4 : Test\n",
      "Dictionary after clear :\n",
      "{}\n"
     ]
    }
   ],
   "source": [
    "Dict = {1: 'Geeks', 'name': 'For', 3: 'Geeks',4:'Test'} \n",
    "print(\"Dictionary before clear :\")\n",
    "printDict(Dict)\n",
    "Dict.clear() #Removes all elements from the dictionary\n",
    "print(\"Dictionary after clear :\")\n",
    "print(Dict)"
   ]
  },
  {
   "cell_type": "code",
   "execution_count": null,
   "metadata": {},
   "outputs": [],
   "source": []
  }
 ],
 "metadata": {
  "kernelspec": {
   "display_name": "Python 3",
   "language": "python",
   "name": "python3"
  },
  "language_info": {
   "codemirror_mode": {
    "name": "ipython",
    "version": 3
   },
   "file_extension": ".py",
   "mimetype": "text/x-python",
   "name": "python",
   "nbconvert_exporter": "python",
   "pygments_lexer": "ipython3",
   "version": "3.7.3"
  }
 },
 "nbformat": 4,
 "nbformat_minor": 2
}
