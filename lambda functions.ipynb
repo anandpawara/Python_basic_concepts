{
 "cells": [
  {
   "cell_type": "markdown",
   "metadata": {},
   "source": [
    "lamda functions are also called anonymos functions or function without names"
   ]
  },
  {
   "cell_type": "code",
   "execution_count": 3,
   "metadata": {},
   "outputs": [
    {
     "name": "stdout",
     "output_type": "stream",
     "text": [
      "25\n"
     ]
    }
   ],
   "source": [
    "#Normal function\n",
    "def square(a):\n",
    "    return a*a\n",
    "print(square(5))"
   ]
  },
  {
   "cell_type": "markdown",
   "metadata": {},
   "source": [
    "calling function only once \n",
    "Functions are object in python\n",
    "So instead defining function directly using like a:a * a\n",
    "f = lambda a:a * a"
   ]
  },
  {
   "cell_type": "code",
   "execution_count": 5,
   "metadata": {},
   "outputs": [
    {
     "name": "stdout",
     "output_type": "stream",
     "text": [
      "25\n"
     ]
    }
   ],
   "source": [
    "f = lambda a:a*a\n",
    "print(f(5))"
   ]
  },
  {
   "cell_type": "markdown",
   "metadata": {},
   "source": [
    "Can pass any number of arguments but lambda functions need to be only one line expression"
   ]
  },
  {
   "cell_type": "code",
   "execution_count": 8,
   "metadata": {},
   "outputs": [
    {
     "name": "stdout",
     "output_type": "stream",
     "text": [
      "5\n"
     ]
    }
   ],
   "source": [
    "f = lambda a,b:a+b\n",
    "print(f(2,3))"
   ]
  },
  {
   "cell_type": "markdown",
   "metadata": {},
   "source": [
    "<b>Using lambda in other Functions</b>\n"
   ]
  },
  {
   "cell_type": "markdown",
   "metadata": {},
   "source": [
    "We will be using lambda function in filter, map, reduce"
   ]
  },
  {
   "cell_type": "markdown",
   "metadata": {},
   "source": [
    "<b>Filter</b><br>\n",
    "Filter basic takes a funtion and list or variables as input and return value to which the function is return True <br>\n",
    "Filter performs the function operation on each element of list and and the value which return true for the function is added to the new list<br>\n",
    "\n"
   ]
  },
  {
   "cell_type": "code",
   "execution_count": 11,
   "metadata": {},
   "outputs": [
    {
     "name": "stdout",
     "output_type": "stream",
     "text": [
      "[2, 6, 8, 4, 6, 2]\n"
     ]
    }
   ],
   "source": [
    "def is_even(n):\n",
    "    return n%2 == 0\n",
    "nums = [3,2,6,8,4,6,2,9]\n",
    "\n",
    "evens = list(filter(is_even,nums))\n",
    "print(evens)"
   ]
  },
  {
   "cell_type": "code",
   "execution_count": 12,
   "metadata": {},
   "outputs": [
    {
     "name": "stdout",
     "output_type": "stream",
     "text": [
      "[2, 6, 8, 4, 6, 2]\n"
     ]
    }
   ],
   "source": [
    "nums = [3,2,6,8,4,6,2,9]\n",
    "evens = list(filter(lambda n: n% 2 == 0,nums))\n",
    "print(evens)"
   ]
  },
  {
   "cell_type": "markdown",
   "metadata": {},
   "source": [
    "<b>Map</b><br>\n",
    "Map is used to apply function to all the elements in the list and it will return the update list with same length with the operation applied to each element in the list"
   ]
  },
  {
   "cell_type": "code",
   "execution_count": 13,
   "metadata": {},
   "outputs": [
    {
     "name": "stdout",
     "output_type": "stream",
     "text": [
      "[4, 12, 16, 8, 12, 4]\n"
     ]
    }
   ],
   "source": [
    "def update(n):\n",
    "    return n*2\n",
    "nums = [3,2,6,8,4,6,2,9]\n",
    "doubles = list(map(update,evens))\n",
    "print(doubles)"
   ]
  },
  {
   "cell_type": "code",
   "execution_count": 14,
   "metadata": {},
   "outputs": [
    {
     "name": "stdout",
     "output_type": "stream",
     "text": [
      "[4, 12, 16, 8, 12, 4]\n"
     ]
    }
   ],
   "source": [
    "nums = [3,2,6,8,4,6,2,9]\n",
    "doubles = list(map(lambda x: x*2,evens))\n",
    "print(doubles)"
   ]
  },
  {
   "cell_type": "markdown",
   "metadata": {},
   "source": [
    "<b>Reduce</b><br>\n",
    "Reduce belongs to functools<br>\n",
    "Reduce take two things 1.Function and 2.Sequence<br>\n",
    "Reduce function always take 2 value "
   ]
  },
  {
   "cell_type": "code",
   "execution_count": 19,
   "metadata": {},
   "outputs": [
    {
     "name": "stdout",
     "output_type": "stream",
     "text": [
      "40\n"
     ]
    }
   ],
   "source": [
    "from functools import reduce\n",
    "def add_all(a,b):\n",
    "    return a+b\n",
    "\n",
    "nums = [3,2,6,8,4,6,2,9]\n",
    "doubles = reduce(add_all,nums)\n",
    "print(doubles)"
   ]
  },
  {
   "cell_type": "code",
   "execution_count": 20,
   "metadata": {},
   "outputs": [
    {
     "name": "stdout",
     "output_type": "stream",
     "text": [
      "40\n"
     ]
    }
   ],
   "source": [
    "from functools import reduce\n",
    "\n",
    "nums = [3,2,6,8,4,6,2,9]\n",
    "doubles = reduce(lambda a,b:a+b,nums)\n",
    "print(doubles)"
   ]
  },
  {
   "cell_type": "code",
   "execution_count": null,
   "metadata": {},
   "outputs": [],
   "source": []
  }
 ],
 "metadata": {
  "kernelspec": {
   "display_name": "Python 3",
   "language": "python",
   "name": "python3"
  },
  "language_info": {
   "codemirror_mode": {
    "name": "ipython",
    "version": 3
   },
   "file_extension": ".py",
   "mimetype": "text/x-python",
   "name": "python",
   "nbconvert_exporter": "python",
   "pygments_lexer": "ipython3",
   "version": "3.7.3"
  }
 },
 "nbformat": 4,
 "nbformat_minor": 2
}
