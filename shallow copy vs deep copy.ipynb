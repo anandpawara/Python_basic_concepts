{
 "cells": [
  {
   "cell_type": "markdown",
   "metadata": {},
   "source": [
    "Shallow copy vs deep copy"
   ]
  },
  {
   "cell_type": "markdown",
   "metadata": {},
   "source": [
    "= is used for creating copy by assigning new pointer to the variable\n"
   ]
  },
  {
   "cell_type": "code",
   "execution_count": 10,
   "metadata": {},
   "outputs": [
    {
     "name": "stdout",
     "output_type": "stream",
     "text": [
      "[1, 2, 3] [1, 2, 3]\n",
      "[9, 2, 3] [9, 2, 3]\n"
     ]
    }
   ],
   "source": [
    "numbers = [1,2,3]\n",
    "new_numbers = numbers\n",
    "print(numbers,new_numbers)\n",
    "new_numbers[0] = 9\n",
    "print(numbers,new_numbers)\n"
   ]
  },
  {
   "cell_type": "markdown",
   "metadata": {},
   "source": [
    "As from above eg it is seen that new_numbers is a just pointing to numbers so any changes made in new_numbers is reflected in numbers as well"
   ]
  },
  {
   "cell_type": "code",
   "execution_count": 11,
   "metadata": {},
   "outputs": [
    {
     "name": "stdout",
     "output_type": "stream",
     "text": [
      "2397914727240\n",
      "2397914727240\n"
     ]
    }
   ],
   "source": [
    "print(id(numbers))\n",
    "print(id(new_numbers))"
   ]
  },
  {
   "cell_type": "code",
   "execution_count": 13,
   "metadata": {},
   "outputs": [
    {
     "name": "stdout",
     "output_type": "stream",
     "text": [
      "140712303432768 140712303432544 140712303432576 \n",
      "\n",
      "140712303432768 140712303432544 140712303432576 \n",
      "\n"
     ]
    }
   ],
   "source": [
    "for element in numbers:\n",
    "    print(id(element),end = \" \")\n",
    "print(\"\\n\")\n",
    "for element in new_numbers:\n",
    "    print(id(element),end = \" \")\n",
    "print(\"\\n\")"
   ]
  },
  {
   "cell_type": "markdown",
   "metadata": {},
   "source": [
    "We can create copy of the object using copy module<br>\n",
    "1.shallow copy <br>\n",
    "2.deep copy"
   ]
  },
  {
   "cell_type": "code",
   "execution_count": 16,
   "metadata": {},
   "outputs": [
    {
     "name": "stdout",
     "output_type": "stream",
     "text": [
      "[[1, 2, 3], [4, 5, 6], [7, 8, 9]] [['a', 'b', 'c', 'd'], [4, 5, 6], [7, 8, 9]]\n"
     ]
    }
   ],
   "source": [
    "import copy \n",
    "old_list = [[1,2,3],[4,5,6],[7,8,9]]\n",
    "new_list = copy.copy(old_list) #shallow copy\n",
    "new_list[0] = ['a','b','c','d']\n",
    "print(old_list,new_list)\n"
   ]
  },
  {
   "cell_type": "code",
   "execution_count": 17,
   "metadata": {},
   "outputs": [
    {
     "name": "stdout",
     "output_type": "stream",
     "text": [
      "2397914945032 2397914145160\n"
     ]
    }
   ],
   "source": [
    "print(id(old_list),id(new_list))"
   ]
  },
  {
   "cell_type": "code",
   "execution_count": 19,
   "metadata": {},
   "outputs": [
    {
     "name": "stdout",
     "output_type": "stream",
     "text": [
      "2397914106632 2397914145544 2397914107656 \n",
      "\n",
      "2397914107144 2397914145544 2397914107656 \n",
      "\n"
     ]
    }
   ],
   "source": [
    "#Checking id of each element\n",
    "for element in old_list:\n",
    "    print(id(element),end = \" \")\n",
    "print(\"\\n\")\n",
    "for element in new_list:\n",
    "    print(id(element),end = \" \")\n",
    "print(\"\\n\")"
   ]
  },
  {
   "cell_type": "code",
   "execution_count": 18,
   "metadata": {},
   "outputs": [
    {
     "name": "stdout",
     "output_type": "stream",
     "text": [
      "2397914106632 2397914106632 2397914106632 2397914145544 2397914145544 2397914145544 2397914107656 2397914107656 2397914107656 \n",
      "\n",
      "2397914107144 2397914107144 2397914107144 2397914107144 2397914145544 2397914145544 2397914145544 2397914107656 2397914107656 2397914107656 \n",
      "\n"
     ]
    }
   ],
   "source": [
    "#Checking id of each element\n",
    "for element in old_list:\n",
    "    for number in element:\n",
    "        print(id(element),end = \" \")\n",
    "print(\"\\n\")\n",
    "for element in new_list:\n",
    "    for number in element:\n",
    "        print(id(element),end = \" \")\n",
    "print(\"\\n\")"
   ]
  },
  {
   "cell_type": "code",
   "execution_count": 6,
   "metadata": {},
   "outputs": [
    {
     "name": "stdout",
     "output_type": "stream",
     "text": [
      "[[1, 2, 'c'], [4, 5, 6], [7, 8, 9]] [[1, 2, 'c'], [4, 5, 6], [7, 8, 9]]\n"
     ]
    }
   ],
   "source": [
    "new_list = copy.copy(old_list)\n",
    "new_list[0][2] = 'c'\n",
    "print(old_list,new_list)"
   ]
  },
  {
   "cell_type": "markdown",
   "metadata": {},
   "source": [
    "shallow copy creates a copy of the object but references each element of the object"
   ]
  },
  {
   "cell_type": "code",
   "execution_count": 9,
   "metadata": {},
   "outputs": [
    {
     "name": "stdout",
     "output_type": "stream",
     "text": [
      "[[1, 2, 3], [4, 5, 6], [7, 8, 9]] [[1, 2, 'c'], [4, 5, 6], [7, 8, 9]]\n"
     ]
    }
   ],
   "source": [
    "old_list = [[1,2,3],[4,5,6],[7,8,9]]\n",
    "new_list = copy.deepcopy(old_list) # deep copy\n",
    "new_list[0][2] = 'c'\n",
    "print(old_list,new_list)"
   ]
  },
  {
   "cell_type": "markdown",
   "metadata": {},
   "source": [
    "Deep copy creates a copy of the object and the element of the objects"
   ]
  },
  {
   "cell_type": "code",
   "execution_count": 29,
   "metadata": {},
   "outputs": [
    {
     "name": "stdout",
     "output_type": "stream",
     "text": [
      "[[1, 2], [3, 4], [5, 6]] [[1, 2], [3, 4], [5, 6]]\n"
     ]
    }
   ],
   "source": [
    "import copy\n",
    "arr1 = [[1,2],[3,4],[5,6]]\n",
    "arr2 = copy.copy(arr1)\n",
    "print(arr1,arr2)"
   ]
  },
  {
   "cell_type": "code",
   "execution_count": 30,
   "metadata": {},
   "outputs": [
    {
     "name": "stdout",
     "output_type": "stream",
     "text": [
      "[[1, 2], [3, 4], [5, 6]] [1, [3, 4], [5, 6]]\n"
     ]
    }
   ],
   "source": [
    "arr2[0] = 1\n",
    "print(arr1,arr2)"
   ]
  },
  {
   "cell_type": "code",
   "execution_count": 32,
   "metadata": {},
   "outputs": [
    {
     "name": "stdout",
     "output_type": "stream",
     "text": [
      "[[0, 2], [3, 4], [5, 6]] [[0, 2], [3, 4], [5, 6]]\n"
     ]
    }
   ],
   "source": [
    "arr1 = [[1,2],[3,4],[5,6]]\n",
    "arr2 = copy.copy(arr1)\n",
    "arr2[0][0] = 0\n",
    "print(arr1,arr2)"
   ]
  },
  {
   "cell_type": "code",
   "execution_count": null,
   "metadata": {},
   "outputs": [],
   "source": []
  }
 ],
 "metadata": {
  "kernelspec": {
   "display_name": "Python 3",
   "language": "python",
   "name": "python3"
  },
  "language_info": {
   "codemirror_mode": {
    "name": "ipython",
    "version": 3
   },
   "file_extension": ".py",
   "mimetype": "text/x-python",
   "name": "python",
   "nbconvert_exporter": "python",
   "pygments_lexer": "ipython3",
   "version": "3.7.3"
  }
 },
 "nbformat": 4,
 "nbformat_minor": 2
}
